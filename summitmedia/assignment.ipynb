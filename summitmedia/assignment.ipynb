{
 "cells": [
  {
   "cell_type": "code",
   "execution_count": 5,
   "metadata": {},
   "outputs": [],
   "source": [
    "#Importing Packages\n",
    "from sqlalchemy import create_engine\n",
    "import pandas as pd"
   ]
  },
  {
   "cell_type": "code",
   "execution_count": 6,
   "metadata": {},
   "outputs": [],
   "source": [
    "#creating connection context\n",
    "engine = create_engine('postgresql://postgres@sdl53652:5432/postgres')\n",
    "con = engine.connect()"
   ]
  },
  {
   "cell_type": "code",
   "execution_count": 7,
   "metadata": {},
   "outputs": [
    {
     "data": {
      "text/plain": [
       "<sqlalchemy.engine.result.ResultProxy at 0x16e7b32f0c8>"
      ]
     },
     "execution_count": 7,
     "metadata": {},
     "output_type": "execute_result"
    }
   ],
   "source": [
    "#Cleanup all the views created\n",
    "con.execute(\"\"\"drop view if exists basic_info_view cascade;\"\"\")\n",
    "con.execute(\"\"\"drop table if exists film_category_new cascade;\"\"\")\n",
    "con.execute(\"\"\"drop view if exists language_info_view  cascade;\"\"\")\n",
    "con.execute(\"\"\"drop view if exists release_year_info_view cascade;\"\"\")\n",
    "con.execute(\"\"\"drop view if exists delivery cascade;\"\"\")"
   ]
  },
  {
   "cell_type": "code",
   "execution_count": 8,
   "metadata": {},
   "outputs": [],
   "source": [
    "#Loading category table from the given csv file\n",
    "category=pd.read_csv(\"C:\\\\Users\\\\sd186063\\\\Desktop\\\\EGC\\\\summitmedia\\\\input\\\\category.csv\")\n",
    "category.to_sql('film_category_new',engine,if_exists='replace')"
   ]
  },
  {
   "cell_type": "code",
   "execution_count": 9,
   "metadata": {},
   "outputs": [
    {
     "data": {
      "text/html": [
       "<div>\n",
       "<style scoped>\n",
       "    .dataframe tbody tr th:only-of-type {\n",
       "        vertical-align: middle;\n",
       "    }\n",
       "\n",
       "    .dataframe tbody tr th {\n",
       "        vertical-align: top;\n",
       "    }\n",
       "\n",
       "    .dataframe thead th {\n",
       "        text-align: right;\n",
       "    }\n",
       "</style>\n",
       "<table border=\"1\" class=\"dataframe\">\n",
       "  <thead>\n",
       "    <tr style=\"text-align: right;\">\n",
       "      <th></th>\n",
       "      <th>category_id</th>\n",
       "      <th>name</th>\n",
       "    </tr>\n",
       "  </thead>\n",
       "  <tbody>\n",
       "    <tr>\n",
       "      <th>0</th>\n",
       "      <td>1</td>\n",
       "      <td>Drama</td>\n",
       "    </tr>\n",
       "    <tr>\n",
       "      <th>1</th>\n",
       "      <td>2</td>\n",
       "      <td>Animation</td>\n",
       "    </tr>\n",
       "    <tr>\n",
       "      <th>2</th>\n",
       "      <td>3</td>\n",
       "      <td>Children</td>\n",
       "    </tr>\n",
       "    <tr>\n",
       "      <th>3</th>\n",
       "      <td>4</td>\n",
       "      <td>Classics</td>\n",
       "    </tr>\n",
       "    <tr>\n",
       "      <th>4</th>\n",
       "      <td>5</td>\n",
       "      <td>Comedy</td>\n",
       "    </tr>\n",
       "    <tr>\n",
       "      <th>5</th>\n",
       "      <td>6</td>\n",
       "      <td>Action</td>\n",
       "    </tr>\n",
       "    <tr>\n",
       "      <th>6</th>\n",
       "      <td>7</td>\n",
       "      <td>Documentary</td>\n",
       "    </tr>\n",
       "    <tr>\n",
       "      <th>7</th>\n",
       "      <td>8</td>\n",
       "      <td>Games</td>\n",
       "    </tr>\n",
       "    <tr>\n",
       "      <th>8</th>\n",
       "      <td>9</td>\n",
       "      <td>Foreign</td>\n",
       "    </tr>\n",
       "    <tr>\n",
       "      <th>9</th>\n",
       "      <td>10</td>\n",
       "      <td>Horror</td>\n",
       "    </tr>\n",
       "    <tr>\n",
       "      <th>10</th>\n",
       "      <td>11</td>\n",
       "      <td>Travel</td>\n",
       "    </tr>\n",
       "    <tr>\n",
       "      <th>11</th>\n",
       "      <td>12</td>\n",
       "      <td>Music</td>\n",
       "    </tr>\n",
       "    <tr>\n",
       "      <th>12</th>\n",
       "      <td>13</td>\n",
       "      <td>Family</td>\n",
       "    </tr>\n",
       "    <tr>\n",
       "      <th>13</th>\n",
       "      <td>14</td>\n",
       "      <td>Sci-Fi</td>\n",
       "    </tr>\n",
       "    <tr>\n",
       "      <th>14</th>\n",
       "      <td>15</td>\n",
       "      <td>Sports</td>\n",
       "    </tr>\n",
       "  </tbody>\n",
       "</table>\n",
       "</div>"
      ],
      "text/plain": [
       "    category_id         name\n",
       "0             1        Drama\n",
       "1             2    Animation\n",
       "2             3     Children\n",
       "3             4     Classics\n",
       "4             5       Comedy\n",
       "5             6       Action\n",
       "6             7  Documentary\n",
       "7             8        Games\n",
       "8             9      Foreign\n",
       "9            10       Horror\n",
       "10           11       Travel\n",
       "11           12        Music\n",
       "12           13       Family\n",
       "13           14       Sci-Fi\n",
       "14           15       Sports"
      ]
     },
     "execution_count": 9,
     "metadata": {},
     "output_type": "execute_result"
    }
   ],
   "source": [
    "category"
   ]
  },
  {
   "cell_type": "code",
   "execution_count": 10,
   "metadata": {},
   "outputs": [],
   "source": [
    "#Views creation\n",
    "basic_info_view = '''create view basic_info_view \n",
    "as\n",
    "SELECT customer.customer_id, customer.first_name || ' ' || customer.last_name as name, customer.email,\n",
    "EXTRACT(year FROM age(current_date,create_date))*12 + EXTRACT(month FROM age(current_date,create_date)) as membership_age,city.city,sum(amount) as revenue\n",
    "FROM customer,address,city,payment\n",
    "where address.address_id = customer.address_id and address.city_id = city.city_id and customer.customer_id = payment.customer_id group by customer.customer_id, name, customer.email,\n",
    "membership_age,city.city;'''\n",
    "\n",
    "language_info_view = '''create view language_info_view \n",
    "as\n",
    "select \tcustomer_id,\n",
    "ARRAY_AGG (\n",
    "       distinct name\n",
    "    ) preferred_film_language\n",
    "\t\n",
    "\t\n",
    "from (\n",
    "\n",
    "WITH cte AS(\n",
    "select p.customer_id,p.name,p.cnt, row_number() over ( partition by p.customer_id order by p.cnt desc) lang_rank from (\n",
    "\n",
    "select rental.customer_id,language.name ,count(*) as cnt from inventory, rental,film,language where rental.inventory_id = inventory.inventory_id and film.film_id = inventory.film_id \n",
    "and  language.language_id = film.language_id group by rental.customer_id,language.name order by rental.customer_id,cnt desc\n",
    ") as p\n",
    ") \n",
    "SELECT \n",
    "\tcustomer_id, \n",
    "\tname, \n",
    "\tcnt,\n",
    "\tlang_rank\n",
    "FROM \n",
    "\tcte\n",
    "WHERE \n",
    "\tlang_rank <= 5\n",
    "\t) p\n",
    "\tgroup by customer_id;'''\n",
    "\n",
    "release_year_info_view = '''create view release_year_info_view \n",
    "as\n",
    "select customer_id,\n",
    "ARRAY_AGG (\n",
    "        DISTINCT release_year\n",
    "    ) preferred_film_year \n",
    "\t\n",
    "\t\n",
    "from (\n",
    "\t\n",
    "WITH cte AS(\n",
    "\tselect p.customer_id,p.release,p.cnt, row_number() over ( partition by p.customer_id order by p.cnt desc) year_rank from (\n",
    "\n",
    "select rental.customer_id,film.release_year as release , count(film.release_year) as cnt from inventory, rental,film where rental.inventory_id = inventory.inventory_id and film.film_id = inventory.film_id \n",
    "group by rental.customer_id, film.film_id, film.release_year order by rental.customer_id\n",
    ") as p\n",
    ") \n",
    "SELECT \n",
    "\tcustomer_id, \n",
    "\trelease,\n",
    "\tCASE \n",
    "WHEN release > 2010 THEN 'New'\n",
    "WHEN release > 2000 THEN '00s'\n",
    "WHEN release > 1990 THEN '90s'\n",
    "WHEN release < 1990 THEN 'Old'\n",
    "END AS release_year,\n",
    "\tcnt,\n",
    "\tyear_rank\n",
    "FROM \n",
    "\tcte\n",
    "WHERE \n",
    "\tyear_rank <= 2\n",
    "\t) q\n",
    "\tgroup by customer_id;'''\n",
    "\n",
    "film_category_info_view = '''create view film_category_info_view \n",
    "as\n",
    "select \tcustomer_id,\n",
    "ARRAY_AGG (\n",
    "        distinct name\n",
    "      \n",
    "    ) preferred_film_category\n",
    "\t\n",
    "\t\n",
    "from (\n",
    "\t\n",
    "WITH cte AS(\n",
    "\tselect p.customer_id,p.name,p.cnt, row_number() over ( partition by p.customer_id order by p.cnt desc) cat_rank from (\n",
    "\n",
    "select rental.customer_id,film_category_new.name, count(*) as cnt from inventory, rental,film_category,film_category_new where rental.inventory_id = inventory.inventory_id \n",
    "and film_category.film_id = inventory.film_id and film_category.category_id=film_category_new.category_id  group by rental.customer_id,film_category_new.name\n",
    "order by rental.customer_id,cnt desc\n",
    ") as p\n",
    ") \n",
    "SELECT \n",
    "\tcustomer_id, \n",
    "\tname,\n",
    "\tcnt,\n",
    "\tcat_rank\n",
    "FROM \n",
    "\tcte\n",
    "WHERE \n",
    "\tcat_rank <= 5\n",
    "\t) p\n",
    "\tgroup by customer_id;'''"
   ]
  },
  {
   "cell_type": "code",
   "execution_count": 11,
   "metadata": {},
   "outputs": [
    {
     "data": {
      "text/plain": [
       "<sqlalchemy.engine.result.ResultProxy at 0x16e7b3bf788>"
      ]
     },
     "execution_count": 11,
     "metadata": {},
     "output_type": "execute_result"
    }
   ],
   "source": [
    "con.execute(basic_info_view)\n",
    "con.execute(language_info_view)\n",
    "con.execute(release_year_info_view)\n",
    "con.execute(film_category_info_view)"
   ]
  },
  {
   "cell_type": "code",
   "execution_count": 12,
   "metadata": {},
   "outputs": [
    {
     "data": {
      "text/plain": [
       "<sqlalchemy.engine.result.ResultProxy at 0x16e7b2d9608>"
      ]
     },
     "execution_count": 12,
     "metadata": {},
     "output_type": "execute_result"
    }
   ],
   "source": [
    "#creating final deliverable csv as a view in database\n",
    "delivery = '''create view delivery\n",
    "as\n",
    "select basic_info_view.customer_id, basic_info_view.name, basic_info_view.email, basic_info_view.membership_age, basic_info_view.revenue,language_info_view.preferred_film_language, \n",
    "film_category_info_view.preferred_film_category, basic_info_view.city, release_year_info_view.preferred_film_year from basic_info_view, language_info_view, release_year_info_view, \n",
    "film_category_info_view where basic_info_view.customer_id=language_info_view.customer_id and basic_info_view.customer_id=release_year_info_view.customer_id and \n",
    "basic_info_view.customer_id=film_category_info_view.customer_id;'''\n",
    "con.execute(delivery)"
   ]
  },
  {
   "cell_type": "code",
   "execution_count": 13,
   "metadata": {},
   "outputs": [],
   "source": [
    "#import psycopg2\n",
    "df = pd.read_sql_query('select * from \"delivery\"',con=engine)\n",
    "df.to_csv(\"C:\\\\Users\\\\sd186063\\\\Desktop\\\\EGC\\\\summitmedia\\\\output\\\\delivery.csv\", index = False)"
   ]
  },
  {
   "cell_type": "code",
   "execution_count": 14,
   "metadata": {},
   "outputs": [
    {
     "data": {
      "text/html": [
       "<div>\n",
       "<style scoped>\n",
       "    .dataframe tbody tr th:only-of-type {\n",
       "        vertical-align: middle;\n",
       "    }\n",
       "\n",
       "    .dataframe tbody tr th {\n",
       "        vertical-align: top;\n",
       "    }\n",
       "\n",
       "    .dataframe thead th {\n",
       "        text-align: right;\n",
       "    }\n",
       "</style>\n",
       "<table border=\"1\" class=\"dataframe\">\n",
       "  <thead>\n",
       "    <tr style=\"text-align: right;\">\n",
       "      <th></th>\n",
       "      <th>customer_id</th>\n",
       "      <th>name</th>\n",
       "      <th>email</th>\n",
       "      <th>membership_age</th>\n",
       "      <th>revenue</th>\n",
       "      <th>preferred_film_language</th>\n",
       "      <th>preferred_film_category</th>\n",
       "      <th>city</th>\n",
       "      <th>preferred_film_year</th>\n",
       "    </tr>\n",
       "  </thead>\n",
       "  <tbody>\n",
       "    <tr>\n",
       "      <th>0</th>\n",
       "      <td>1</td>\n",
       "      <td>MARY SMITH</td>\n",
       "      <td>MARY.SMITH@sakilacustomer.org</td>\n",
       "      <td>183.0</td>\n",
       "      <td>118.68</td>\n",
       "      <td>[English             ]</td>\n",
       "      <td>[Animation, Classics, Comedy, Documentary, Spo...</td>\n",
       "      <td>Sasebo</td>\n",
       "      <td>[00s]</td>\n",
       "    </tr>\n",
       "    <tr>\n",
       "      <th>1</th>\n",
       "      <td>2</td>\n",
       "      <td>PATRICIA JOHNSON</td>\n",
       "      <td>PATRICIA.JOHNSON@sakilacustomer.org</td>\n",
       "      <td>183.0</td>\n",
       "      <td>128.73</td>\n",
       "      <td>[English             ]</td>\n",
       "      <td>[Animation, Classics, Drama, Horror, Sports]</td>\n",
       "      <td>San Bernardino</td>\n",
       "      <td>[00s]</td>\n",
       "    </tr>\n",
       "    <tr>\n",
       "      <th>2</th>\n",
       "      <td>3</td>\n",
       "      <td>LINDA WILLIAMS</td>\n",
       "      <td>LINDA.WILLIAMS@sakilacustomer.org</td>\n",
       "      <td>183.0</td>\n",
       "      <td>135.74</td>\n",
       "      <td>[English             ]</td>\n",
       "      <td>[Animation, Comedy, Drama, Sci-Fi, Travel]</td>\n",
       "      <td>Athenai</td>\n",
       "      <td>[00s]</td>\n",
       "    </tr>\n",
       "    <tr>\n",
       "      <th>3</th>\n",
       "      <td>4</td>\n",
       "      <td>BARBARA JONES</td>\n",
       "      <td>BARBARA.JONES@sakilacustomer.org</td>\n",
       "      <td>183.0</td>\n",
       "      <td>81.78</td>\n",
       "      <td>[English             ]</td>\n",
       "      <td>[Comedy, Documentary, Foreign, Sci-Fi, Travel]</td>\n",
       "      <td>Myingyan</td>\n",
       "      <td>[00s]</td>\n",
       "    </tr>\n",
       "    <tr>\n",
       "      <th>4</th>\n",
       "      <td>5</td>\n",
       "      <td>ELIZABETH BROWN</td>\n",
       "      <td>ELIZABETH.BROWN@sakilacustomer.org</td>\n",
       "      <td>183.0</td>\n",
       "      <td>144.62</td>\n",
       "      <td>[English             ]</td>\n",
       "      <td>[Animation, Classics, Family, Games, Sports]</td>\n",
       "      <td>Nantou</td>\n",
       "      <td>[00s]</td>\n",
       "    </tr>\n",
       "    <tr>\n",
       "      <th>...</th>\n",
       "      <td>...</td>\n",
       "      <td>...</td>\n",
       "      <td>...</td>\n",
       "      <td>...</td>\n",
       "      <td>...</td>\n",
       "      <td>...</td>\n",
       "      <td>...</td>\n",
       "      <td>...</td>\n",
       "      <td>...</td>\n",
       "    </tr>\n",
       "    <tr>\n",
       "      <th>594</th>\n",
       "      <td>595</td>\n",
       "      <td>TERRENCE GUNDERSON</td>\n",
       "      <td>TERRENCE.GUNDERSON@sakilacustomer.org</td>\n",
       "      <td>183.0</td>\n",
       "      <td>117.70</td>\n",
       "      <td>[English             ]</td>\n",
       "      <td>[Action, Children, Comedy, Documentary, Music]</td>\n",
       "      <td>Jinzhou</td>\n",
       "      <td>[00s]</td>\n",
       "    </tr>\n",
       "    <tr>\n",
       "      <th>595</th>\n",
       "      <td>596</td>\n",
       "      <td>ENRIQUE FORSYTHE</td>\n",
       "      <td>ENRIQUE.FORSYTHE@sakilacustomer.org</td>\n",
       "      <td>183.0</td>\n",
       "      <td>96.72</td>\n",
       "      <td>[English             ]</td>\n",
       "      <td>[Classics, Foreign, Games, Music, Sports]</td>\n",
       "      <td>Patras</td>\n",
       "      <td>[00s]</td>\n",
       "    </tr>\n",
       "    <tr>\n",
       "      <th>596</th>\n",
       "      <td>597</td>\n",
       "      <td>FREDDIE DUGGAN</td>\n",
       "      <td>FREDDIE.DUGGAN@sakilacustomer.org</td>\n",
       "      <td>183.0</td>\n",
       "      <td>99.75</td>\n",
       "      <td>[English             ]</td>\n",
       "      <td>[Action, Children, Foreign, Sci-Fi, Sports]</td>\n",
       "      <td>Sullana</td>\n",
       "      <td>[00s]</td>\n",
       "    </tr>\n",
       "    <tr>\n",
       "      <th>597</th>\n",
       "      <td>598</td>\n",
       "      <td>WADE DELVALLE</td>\n",
       "      <td>WADE.DELVALLE@sakilacustomer.org</td>\n",
       "      <td>183.0</td>\n",
       "      <td>83.78</td>\n",
       "      <td>[English             ]</td>\n",
       "      <td>[Comedy, Documentary, Foreign, Games, Horror]</td>\n",
       "      <td>Lausanne</td>\n",
       "      <td>[00s]</td>\n",
       "    </tr>\n",
       "    <tr>\n",
       "      <th>598</th>\n",
       "      <td>599</td>\n",
       "      <td>AUSTIN CINTRON</td>\n",
       "      <td>AUSTIN.CINTRON@sakilacustomer.org</td>\n",
       "      <td>183.0</td>\n",
       "      <td>83.81</td>\n",
       "      <td>[English             ]</td>\n",
       "      <td>[Comedy, Foreign, Games, Sci-Fi, Travel]</td>\n",
       "      <td>Tieli</td>\n",
       "      <td>[00s]</td>\n",
       "    </tr>\n",
       "  </tbody>\n",
       "</table>\n",
       "<p>599 rows × 9 columns</p>\n",
       "</div>"
      ],
      "text/plain": [
       "     customer_id                name                                  email  \\\n",
       "0              1          MARY SMITH          MARY.SMITH@sakilacustomer.org   \n",
       "1              2    PATRICIA JOHNSON    PATRICIA.JOHNSON@sakilacustomer.org   \n",
       "2              3      LINDA WILLIAMS      LINDA.WILLIAMS@sakilacustomer.org   \n",
       "3              4       BARBARA JONES       BARBARA.JONES@sakilacustomer.org   \n",
       "4              5     ELIZABETH BROWN     ELIZABETH.BROWN@sakilacustomer.org   \n",
       "..           ...                 ...                                    ...   \n",
       "594          595  TERRENCE GUNDERSON  TERRENCE.GUNDERSON@sakilacustomer.org   \n",
       "595          596    ENRIQUE FORSYTHE    ENRIQUE.FORSYTHE@sakilacustomer.org   \n",
       "596          597      FREDDIE DUGGAN      FREDDIE.DUGGAN@sakilacustomer.org   \n",
       "597          598       WADE DELVALLE       WADE.DELVALLE@sakilacustomer.org   \n",
       "598          599      AUSTIN CINTRON      AUSTIN.CINTRON@sakilacustomer.org   \n",
       "\n",
       "     membership_age  revenue preferred_film_language  \\\n",
       "0             183.0   118.68  [English             ]   \n",
       "1             183.0   128.73  [English             ]   \n",
       "2             183.0   135.74  [English             ]   \n",
       "3             183.0    81.78  [English             ]   \n",
       "4             183.0   144.62  [English             ]   \n",
       "..              ...      ...                     ...   \n",
       "594           183.0   117.70  [English             ]   \n",
       "595           183.0    96.72  [English             ]   \n",
       "596           183.0    99.75  [English             ]   \n",
       "597           183.0    83.78  [English             ]   \n",
       "598           183.0    83.81  [English             ]   \n",
       "\n",
       "                               preferred_film_category            city  \\\n",
       "0    [Animation, Classics, Comedy, Documentary, Spo...          Sasebo   \n",
       "1         [Animation, Classics, Drama, Horror, Sports]  San Bernardino   \n",
       "2           [Animation, Comedy, Drama, Sci-Fi, Travel]         Athenai   \n",
       "3       [Comedy, Documentary, Foreign, Sci-Fi, Travel]        Myingyan   \n",
       "4         [Animation, Classics, Family, Games, Sports]          Nantou   \n",
       "..                                                 ...             ...   \n",
       "594     [Action, Children, Comedy, Documentary, Music]         Jinzhou   \n",
       "595          [Classics, Foreign, Games, Music, Sports]          Patras   \n",
       "596        [Action, Children, Foreign, Sci-Fi, Sports]         Sullana   \n",
       "597      [Comedy, Documentary, Foreign, Games, Horror]        Lausanne   \n",
       "598           [Comedy, Foreign, Games, Sci-Fi, Travel]           Tieli   \n",
       "\n",
       "    preferred_film_year  \n",
       "0                 [00s]  \n",
       "1                 [00s]  \n",
       "2                 [00s]  \n",
       "3                 [00s]  \n",
       "4                 [00s]  \n",
       "..                  ...  \n",
       "594               [00s]  \n",
       "595               [00s]  \n",
       "596               [00s]  \n",
       "597               [00s]  \n",
       "598               [00s]  \n",
       "\n",
       "[599 rows x 9 columns]"
      ]
     },
     "execution_count": 14,
     "metadata": {},
     "output_type": "execute_result"
    }
   ],
   "source": [
    "df"
   ]
  },
  {
   "cell_type": "markdown",
   "metadata": {},
   "source": [
    "# Visualization"
   ]
  },
  {
   "cell_type": "code",
   "execution_count": 15,
   "metadata": {},
   "outputs": [],
   "source": [
    "import matplotlib.pyplot as plt"
   ]
  },
  {
   "cell_type": "code",
   "execution_count": 30,
   "metadata": {},
   "outputs": [
    {
     "ename": "ValueError",
     "evalue": "'label' must be of length 'x'",
     "output_type": "error",
     "traceback": [
      "\u001b[1;31m---------------------------------------------------------------------------\u001b[0m",
      "\u001b[1;31mValueError\u001b[0m                                Traceback (most recent call last)",
      "\u001b[1;32m<ipython-input-30-fad2be3fff10>\u001b[0m in \u001b[0;36m<module>\u001b[1;34m\u001b[0m\n\u001b[0;32m      1\u001b[0m \u001b[0mfig\u001b[0m \u001b[1;33m=\u001b[0m \u001b[0mplt\u001b[0m\u001b[1;33m.\u001b[0m\u001b[0mfigure\u001b[0m\u001b[1;33m(\u001b[0m\u001b[0mfigsize\u001b[0m \u001b[1;33m=\u001b[0m \u001b[1;33m(\u001b[0m\u001b[1;36m10\u001b[0m\u001b[1;33m,\u001b[0m\u001b[1;36m7\u001b[0m\u001b[1;33m)\u001b[0m\u001b[1;33m)\u001b[0m\u001b[1;33m\u001b[0m\u001b[1;33m\u001b[0m\u001b[0m\n\u001b[1;32m----> 2\u001b[1;33m \u001b[0mplt\u001b[0m\u001b[1;33m.\u001b[0m\u001b[0mpie\u001b[0m\u001b[1;33m(\u001b[0m\u001b[0mdf\u001b[0m\u001b[1;33m.\u001b[0m\u001b[0mrevenue\u001b[0m\u001b[1;33m,\u001b[0m \u001b[0mlabels\u001b[0m \u001b[1;33m=\u001b[0m \u001b[1;34m'English'\u001b[0m\u001b[1;33m)\u001b[0m\u001b[1;33m\u001b[0m\u001b[1;33m\u001b[0m\u001b[0m\n\u001b[0m\u001b[0;32m      3\u001b[0m \u001b[0mplt\u001b[0m\u001b[1;33m.\u001b[0m\u001b[0mshow\u001b[0m\u001b[1;33m(\u001b[0m\u001b[1;33m)\u001b[0m\u001b[1;33m\u001b[0m\u001b[1;33m\u001b[0m\u001b[0m\n",
      "\u001b[1;32m~\\AppData\\Local\\Continuum\\anaconda3\\lib\\site-packages\\matplotlib\\pyplot.py\u001b[0m in \u001b[0;36mpie\u001b[1;34m(x, explode, labels, colors, autopct, pctdistance, shadow, labeldistance, startangle, radius, counterclock, wedgeprops, textprops, center, frame, rotatelabels, data)\u001b[0m\n\u001b[0;32m   2785\u001b[0m         \u001b[0mwedgeprops\u001b[0m\u001b[1;33m=\u001b[0m\u001b[0mwedgeprops\u001b[0m\u001b[1;33m,\u001b[0m \u001b[0mtextprops\u001b[0m\u001b[1;33m=\u001b[0m\u001b[0mtextprops\u001b[0m\u001b[1;33m,\u001b[0m \u001b[0mcenter\u001b[0m\u001b[1;33m=\u001b[0m\u001b[0mcenter\u001b[0m\u001b[1;33m,\u001b[0m\u001b[1;33m\u001b[0m\u001b[1;33m\u001b[0m\u001b[0m\n\u001b[0;32m   2786\u001b[0m         frame=frame, rotatelabels=rotatelabels, **({\"data\": data} if\n\u001b[1;32m-> 2787\u001b[1;33m         data is not None else {}))\n\u001b[0m\u001b[0;32m   2788\u001b[0m \u001b[1;33m\u001b[0m\u001b[0m\n\u001b[0;32m   2789\u001b[0m \u001b[1;33m\u001b[0m\u001b[0m\n",
      "\u001b[1;32m~\\AppData\\Local\\Continuum\\anaconda3\\lib\\site-packages\\matplotlib\\__init__.py\u001b[0m in \u001b[0;36minner\u001b[1;34m(ax, data, *args, **kwargs)\u001b[0m\n\u001b[0;32m   1599\u001b[0m     \u001b[1;32mdef\u001b[0m \u001b[0minner\u001b[0m\u001b[1;33m(\u001b[0m\u001b[0max\u001b[0m\u001b[1;33m,\u001b[0m \u001b[1;33m*\u001b[0m\u001b[0margs\u001b[0m\u001b[1;33m,\u001b[0m \u001b[0mdata\u001b[0m\u001b[1;33m=\u001b[0m\u001b[1;32mNone\u001b[0m\u001b[1;33m,\u001b[0m \u001b[1;33m**\u001b[0m\u001b[0mkwargs\u001b[0m\u001b[1;33m)\u001b[0m\u001b[1;33m:\u001b[0m\u001b[1;33m\u001b[0m\u001b[1;33m\u001b[0m\u001b[0m\n\u001b[0;32m   1600\u001b[0m         \u001b[1;32mif\u001b[0m \u001b[0mdata\u001b[0m \u001b[1;32mis\u001b[0m \u001b[1;32mNone\u001b[0m\u001b[1;33m:\u001b[0m\u001b[1;33m\u001b[0m\u001b[1;33m\u001b[0m\u001b[0m\n\u001b[1;32m-> 1601\u001b[1;33m             \u001b[1;32mreturn\u001b[0m \u001b[0mfunc\u001b[0m\u001b[1;33m(\u001b[0m\u001b[0max\u001b[0m\u001b[1;33m,\u001b[0m \u001b[1;33m*\u001b[0m\u001b[0mmap\u001b[0m\u001b[1;33m(\u001b[0m\u001b[0msanitize_sequence\u001b[0m\u001b[1;33m,\u001b[0m \u001b[0margs\u001b[0m\u001b[1;33m)\u001b[0m\u001b[1;33m,\u001b[0m \u001b[1;33m**\u001b[0m\u001b[0mkwargs\u001b[0m\u001b[1;33m)\u001b[0m\u001b[1;33m\u001b[0m\u001b[1;33m\u001b[0m\u001b[0m\n\u001b[0m\u001b[0;32m   1602\u001b[0m \u001b[1;33m\u001b[0m\u001b[0m\n\u001b[0;32m   1603\u001b[0m         \u001b[0mbound\u001b[0m \u001b[1;33m=\u001b[0m \u001b[0mnew_sig\u001b[0m\u001b[1;33m.\u001b[0m\u001b[0mbind\u001b[0m\u001b[1;33m(\u001b[0m\u001b[0max\u001b[0m\u001b[1;33m,\u001b[0m \u001b[1;33m*\u001b[0m\u001b[0margs\u001b[0m\u001b[1;33m,\u001b[0m \u001b[1;33m**\u001b[0m\u001b[0mkwargs\u001b[0m\u001b[1;33m)\u001b[0m\u001b[1;33m\u001b[0m\u001b[1;33m\u001b[0m\u001b[0m\n",
      "\u001b[1;32m~\\AppData\\Local\\Continuum\\anaconda3\\lib\\site-packages\\matplotlib\\axes\\_axes.py\u001b[0m in \u001b[0;36mpie\u001b[1;34m(self, x, explode, labels, colors, autopct, pctdistance, shadow, labeldistance, startangle, radius, counterclock, wedgeprops, textprops, center, frame, rotatelabels)\u001b[0m\n\u001b[0;32m   2981\u001b[0m             \u001b[0mexplode\u001b[0m \u001b[1;33m=\u001b[0m \u001b[1;33m[\u001b[0m\u001b[1;36m0\u001b[0m\u001b[1;33m]\u001b[0m \u001b[1;33m*\u001b[0m \u001b[0mlen\u001b[0m\u001b[1;33m(\u001b[0m\u001b[0mx\u001b[0m\u001b[1;33m)\u001b[0m\u001b[1;33m\u001b[0m\u001b[1;33m\u001b[0m\u001b[0m\n\u001b[0;32m   2982\u001b[0m         \u001b[1;32mif\u001b[0m \u001b[0mlen\u001b[0m\u001b[1;33m(\u001b[0m\u001b[0mx\u001b[0m\u001b[1;33m)\u001b[0m \u001b[1;33m!=\u001b[0m \u001b[0mlen\u001b[0m\u001b[1;33m(\u001b[0m\u001b[0mlabels\u001b[0m\u001b[1;33m)\u001b[0m\u001b[1;33m:\u001b[0m\u001b[1;33m\u001b[0m\u001b[1;33m\u001b[0m\u001b[0m\n\u001b[1;32m-> 2983\u001b[1;33m             \u001b[1;32mraise\u001b[0m \u001b[0mValueError\u001b[0m\u001b[1;33m(\u001b[0m\u001b[1;34m\"'label' must be of length 'x'\"\u001b[0m\u001b[1;33m)\u001b[0m\u001b[1;33m\u001b[0m\u001b[1;33m\u001b[0m\u001b[0m\n\u001b[0m\u001b[0;32m   2984\u001b[0m         \u001b[1;32mif\u001b[0m \u001b[0mlen\u001b[0m\u001b[1;33m(\u001b[0m\u001b[0mx\u001b[0m\u001b[1;33m)\u001b[0m \u001b[1;33m!=\u001b[0m \u001b[0mlen\u001b[0m\u001b[1;33m(\u001b[0m\u001b[0mexplode\u001b[0m\u001b[1;33m)\u001b[0m\u001b[1;33m:\u001b[0m\u001b[1;33m\u001b[0m\u001b[1;33m\u001b[0m\u001b[0m\n\u001b[0;32m   2985\u001b[0m             \u001b[1;32mraise\u001b[0m \u001b[0mValueError\u001b[0m\u001b[1;33m(\u001b[0m\u001b[1;34m\"'explode' must be of length 'x'\"\u001b[0m\u001b[1;33m)\u001b[0m\u001b[1;33m\u001b[0m\u001b[1;33m\u001b[0m\u001b[0m\n",
      "\u001b[1;31mValueError\u001b[0m: 'label' must be of length 'x'"
     ]
    },
    {
     "data": {
      "image/png": "[encoded data removed]",
      "text/plain": [
       "<Figure size 720x504 with 1 Axes>"
      ]
     },
     "metadata": {
      "needs_background": "light"
     },
     "output_type": "display_data"
    }
   ],
   "source": [
    "fig = plt.figure(figsize = (10,7))\n",
    "plt.pie(df.revenue, labels = 'English')\n",
    "plt.show()"
   ]
  },
  {
   "cell_type": "code",
   "execution_count": 24,
   "metadata": {},
   "outputs": [
    {
     "ename": "TypeError",
     "evalue": "unhashable type: 'list'",
     "output_type": "error",
     "traceback": [
      "\u001b[1;31m---------------------------------------------------------------------------\u001b[0m",
      "\u001b[1;31mTypeError\u001b[0m                                 Traceback (most recent call last)",
      "\u001b[1;32mpandas\\_libs\\hashtable_class_helper.pxi\u001b[0m in \u001b[0;36mpandas._libs.hashtable.PyObjectHashTable.map_locations\u001b[1;34m()\u001b[0m\n",
      "\u001b[1;31mTypeError\u001b[0m: unhashable type: 'list'"
     ]
    },
    {
     "name": "stderr",
     "output_type": "stream",
     "text": [
      "Exception ignored in: 'pandas._libs.index.IndexEngine._call_map_locations'\n",
      "Traceback (most recent call last):\n",
      "  File \"pandas\\_libs\\hashtable_class_helper.pxi\", line 4588, in pandas._libs.hashtable.PyObjectHashTable.map_locations\n",
      "TypeError: unhashable type: 'list'\n"
     ]
    },
    {
     "data": {
      "text/plain": [
       "[00s]    599\n",
       "Name: preferred_film_year, dtype: int64"
      ]
     },
     "execution_count": 24,
     "metadata": {},
     "output_type": "execute_result"
    }
   ],
   "source": [
    "df.preferred_film_year.value_counts()"
   ]
  },
  {
   "cell_type": "code",
   "execution_count": 21,
   "metadata": {},
   "outputs": [
    {
     "data": {
      "text/plain": [
       "pandas.core.series.Series"
      ]
     },
     "execution_count": 21,
     "metadata": {},
     "output_type": "execute_result"
    }
   ],
   "source": [
    "type(df.preferred_film_year)"
   ]
  },
  {
   "cell_type": "code",
   "execution_count": null,
   "metadata": {},
   "outputs": [],
   "source": []
  }
 ],
 "metadata": {
  "kernelspec": {
   "display_name": "Python 3",
   "language": "python",
   "name": "python3"
  },
  "language_info": {
   "codemirror_mode": {
    "name": "ipython",
    "version": 3
   },
   "file_extension": ".py",
   "mimetype": "text/x-python",
   "name": "python",
   "nbconvert_exporter": "python",
   "pygments_lexer": "ipython3",
   "version": "3.7.4"
  }
 },
 "nbformat": 4,
 "nbformat_minor": 2
}
